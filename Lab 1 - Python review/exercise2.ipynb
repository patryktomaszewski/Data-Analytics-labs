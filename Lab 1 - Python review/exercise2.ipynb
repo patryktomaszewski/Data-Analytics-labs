{
 "cells": [
  {
   "cell_type": "code",
   "execution_count": 30,
   "metadata": {
    "colab": {
     "base_uri": "https://localhost:8080/",
     "height": 436
    },
    "id": "mDazWl5V1n5t",
    "outputId": "952ffbf1-9ba4-4eea-9515-7be83f3ce0a0"
   },
   "outputs": [
    {
     "name": "stdout",
     "output_type": "stream",
     "text": [
      "Installing CmdStan version: 2.29.1\n",
      "Install directory: /Users/patryktomaszewski/.cmdstan\n",
      "CmdStan version 2.29.1 already installed\n"
     ]
    },
    {
     "data": {
      "text/plain": [
       "True"
      ]
     },
     "execution_count": 30,
     "metadata": {},
     "output_type": "execute_result"
    }
   ],
   "source": [
    "import cmdstanpy\n",
    "from cmdstanpy import CmdStanModel\n",
    "cmdstanpy.install_cmdstan()\n"
   ]
  },
  {
   "cell_type": "code",
   "execution_count": 5,
   "metadata": {
    "id": "rfMNE6LKOv4q"
   },
   "outputs": [],
   "source": [
    "import matplotlib.pyplot as plt"
   ]
  },
  {
   "cell_type": "code",
   "execution_count": 6,
   "metadata": {
    "colab": {
     "base_uri": "https://localhost:8080/"
    },
    "id": "Tcsj2ehhGJ43",
    "outputId": "036de300-3a0c-4b20-e817-72d6ea428ebd"
   },
   "outputs": [
    {
     "name": "stderr",
     "output_type": "stream",
     "text": [
      "INFO:cmdstanpy:compiling stan file /Users/patryktomaszewski/studies/bachelor1/data analitycs/Data-Analytics-labs/Lab 1 - Python review/bern_1.stan to exe file /Users/patryktomaszewski/studies/bachelor1/data analitycs/Data-Analytics-labs/Lab 1 - Python review/bern_1\n",
      "INFO:cmdstanpy:compiled model executable: /Users/patryktomaszewski/studies/bachelor1/data analitycs/Data-Analytics-labs/Lab 1 - Python review/bern_1\n",
      "WARNING:cmdstanpy:Stan compiler has produced 1 warnings:\n",
      "WARNING:cmdstanpy:\n",
      "--- Translating Stan model to C++ code ---\n",
      "bin/stanc  --o=/var/folders/4p/0qz7dp9d0z77llrj1f8zbg1w0000gn/T/tmp472yyba3/tmphate1ayn.hpp /var/folders/4p/0qz7dp9d0z77llrj1f8zbg1w0000gn/T/tmp472yyba3/tmphate1ayn.stan\n",
      "Warning in '/var/folders/4p/0qz7dp9d0z77llrj1f8zbg1w0000gn/T/tmp472yyba3/tmphate1ayn.stan', line 3, column 3: Declaration\n",
      "    of arrays by placing brackets after a variable name is deprecated and\n",
      "    will be removed in Stan 2.32.0. Instead use the array keyword before the\n",
      "    type. This can be changed automatically using the auto-format flag to\n",
      "    stanc\n",
      "\n",
      "--- Compiling, linking C++ code ---\n",
      "clang++ -std=c++1y -Wno-unknown-warning-option -Wno-tautological-compare -Wno-sign-compare -D_REENTRANT -Wno-ignored-attributes      -I stan/lib/stan_math/lib/tbb_2020.3/include    -O3 -I src -I stan/src -I lib/rapidjson_1.1.0/ -I lib/CLI11-1.9.1/ -I stan/lib/stan_math/ -I stan/lib/stan_math/lib/eigen_3.3.9 -I stan/lib/stan_math/lib/boost_1.75.0 -I stan/lib/stan_math/lib/sundials_6.0.0/include -I stan/lib/stan_math/lib/sundials_6.0.0/src/sundials    -DBOOST_DISABLE_ASSERTS          -c -include-pch stan/src/stan/model/model_header.hpp.gch -x c++ -o /var/folders/4p/0qz7dp9d0z77llrj1f8zbg1w0000gn/T/tmp472yyba3/tmphate1ayn.o /var/folders/4p/0qz7dp9d0z77llrj1f8zbg1w0000gn/T/tmp472yyba3/tmphate1ayn.hpp\n",
      "clang++ -std=c++1y -Wno-unknown-warning-option -Wno-tautological-compare -Wno-sign-compare -D_REENTRANT -Wno-ignored-attributes      -I stan/lib/stan_math/lib/tbb_2020.3/include    -O3 -I src -I stan/src -I lib/rapidjson_1.1.0/ -I lib/CLI11-1.9.1/ -I stan/lib/stan_math/ -I stan/lib/stan_math/lib/eigen_3.3.9 -I stan/lib/stan_math/lib/boost_1.75.0 -I stan/lib/stan_math/lib/sundials_6.0.0/include -I stan/lib/stan_math/lib/sundials_6.0.0/src/sundials    -DBOOST_DISABLE_ASSERTS                -Wl,-L,\"/Users/patryktomaszewski/.cmdstan/cmdstan-2.29.1/stan/lib/stan_math/lib/tbb\" -Wl,-rpath,\"/Users/patryktomaszewski/.cmdstan/cmdstan-2.29.1/stan/lib/stan_math/lib/tbb\"      /var/folders/4p/0qz7dp9d0z77llrj1f8zbg1w0000gn/T/tmp472yyba3/tmphate1ayn.o src/cmdstan/main.o        -Wl,-L,\"/Users/patryktomaszewski/.cmdstan/cmdstan-2.29.1/stan/lib/stan_math/lib/tbb\" -Wl,-rpath,\"/Users/patryktomaszewski/.cmdstan/cmdstan-2.29.1/stan/lib/stan_math/lib/tbb\"   stan/lib/stan_math/lib/sundials_6.0.0/lib/libsundials_nvecserial.a stan/lib/stan_math/lib/sundials_6.0.0/lib/libsundials_cvodes.a stan/lib/stan_math/lib/sundials_6.0.0/lib/libsundials_idas.a stan/lib/stan_math/lib/sundials_6.0.0/lib/libsundials_kinsol.a  stan/lib/stan_math/lib/tbb/libtbb.dylib stan/lib/stan_math/lib/tbb/libtbbmalloc.dylib stan/lib/stan_math/lib/tbb/libtbbmalloc_proxy.dylib -o /var/folders/4p/0qz7dp9d0z77llrj1f8zbg1w0000gn/T/tmp472yyba3/tmphate1ayn\n",
      "rm -f /var/folders/4p/0qz7dp9d0z77llrj1f8zbg1w0000gn/T/tmp472yyba3/tmphate1ayn.o\n",
      "\n"
     ]
    }
   ],
   "source": [
    "stanModel = CmdStanModel(stan_file='bern_1.stan')"
   ]
  },
  {
   "cell_type": "code",
   "execution_count": 7,
   "metadata": {
    "id": "HexM05uN16cq"
   },
   "outputs": [],
   "source": [
    "ds = {\n",
    " \"N\" : 17,\n",
    " \"y\" : [1, 1, 0, 0, 0, 0, 1, 1, 1, 1, 1, 0, 1, 1, 0, 1, 1]\n",
    "}"
   ]
  },
  {
   "cell_type": "code",
   "execution_count": 31,
   "metadata": {
    "colab": {
     "base_uri": "https://localhost:8080/"
    },
    "id": "e21EPyhrGUvg",
    "outputId": "759daced-9e6b-43e6-a23b-078d80f54484"
   },
   "outputs": [
    {
     "name": "stderr",
     "output_type": "stream",
     "text": [
      "INFO:cmdstanpy:CmdStan start processing\n"
     ]
    },
    {
     "data": {
      "application/vnd.jupyter.widget-view+json": {
       "model_id": "9370423b5d5d44e3afbc107c9347c943",
       "version_major": 2,
       "version_minor": 0
      },
      "text/plain": [
       "chain 1 |          | 00:00 Status"
      ]
     },
     "metadata": {},
     "output_type": "display_data"
    },
    {
     "data": {
      "application/vnd.jupyter.widget-view+json": {
       "model_id": "9e4d445680724f598fc03a7cd45e5e43",
       "version_major": 2,
       "version_minor": 0
      },
      "text/plain": [
       "chain 2 |          | 00:00 Status"
      ]
     },
     "metadata": {},
     "output_type": "display_data"
    },
    {
     "data": {
      "application/vnd.jupyter.widget-view+json": {
       "model_id": "81ad342f36704e0b93e4b2e1bafc6121",
       "version_major": 2,
       "version_minor": 0
      },
      "text/plain": [
       "chain 3 |          | 00:00 Status"
      ]
     },
     "metadata": {},
     "output_type": "display_data"
    },
    {
     "data": {
      "application/vnd.jupyter.widget-view+json": {
       "model_id": "66925f64a43f466ea1337737bcaa8e83",
       "version_major": 2,
       "version_minor": 0
      },
      "text/plain": [
       "chain 4 |          | 00:00 Status"
      ]
     },
     "metadata": {},
     "output_type": "display_data"
    },
    {
     "name": "stdout",
     "output_type": "stream",
     "text": [
      "                                                                                                                                                                                                                                                                                                                                "
     ]
    },
    {
     "name": "stderr",
     "output_type": "stream",
     "text": [
      "INFO:cmdstanpy:CmdStan done processing.\n"
     ]
    },
    {
     "name": "stdout",
     "output_type": "stream",
     "text": [
      "\n"
     ]
    }
   ],
   "source": [
    "stan_fit = stanModel.sample(data=ds, output_dir='results')"
   ]
  },
  {
   "cell_type": "code",
   "execution_count": 11,
   "metadata": {},
   "outputs": [],
   "source": [
    "theta_col_array = stan_fit.stan_variable('theta')"
   ]
  },
  {
   "cell_type": "code",
   "execution_count": 21,
   "metadata": {
    "colab": {
     "base_uri": "https://localhost:8080/",
     "height": 265
    },
    "id": "Ty9uiprYMKsC",
    "outputId": "c4db3b6a-e3f4-408d-d485-1b99193b9ffb"
   },
   "outputs": [
    {
     "data": {
      "image/png": "[encoded data removed]",
      "text/plain": [
       "<Figure size 432x288 with 1 Axes>"
      ]
     },
     "metadata": {
      "needs_background": "light"
     },
     "output_type": "display_data"
    }
   ],
   "source": [
    "\n",
    "plt.hist(theta_col_array, bins = 100)\n",
    "plt.show()"
   ]
  },
  {
   "cell_type": "code",
   "execution_count": 24,
   "metadata": {
    "colab": {
     "base_uri": "https://localhost:8080/"
    },
    "id": "JhXGXB2wOsJ5",
    "outputId": "c8dc5b46-307a-4bd3-e995-86dff7f003d2"
   },
   "outputs": [
    {
     "data": {
      "text/html": [
       "<div>\n",
       "<style scoped>\n",
       "    .dataframe tbody tr th:only-of-type {\n",
       "        vertical-align: middle;\n",
       "    }\n",
       "\n",
       "    .dataframe tbody tr th {\n",
       "        vertical-align: top;\n",
       "    }\n",
       "\n",
       "    .dataframe thead th {\n",
       "        text-align: right;\n",
       "    }\n",
       "</style>\n",
       "<table border=\"1\" class=\"dataframe\">\n",
       "  <thead>\n",
       "    <tr style=\"text-align: right;\">\n",
       "      <th></th>\n",
       "      <th>Mean</th>\n",
       "      <th>MCSE</th>\n",
       "      <th>StdDev</th>\n",
       "      <th>5%</th>\n",
       "      <th>50%</th>\n",
       "      <th>95%</th>\n",
       "      <th>N_Eff</th>\n",
       "      <th>N_Eff/s</th>\n",
       "      <th>R_hat</th>\n",
       "    </tr>\n",
       "    <tr>\n",
       "      <th>name</th>\n",
       "      <th></th>\n",
       "      <th></th>\n",
       "      <th></th>\n",
       "      <th></th>\n",
       "      <th></th>\n",
       "      <th></th>\n",
       "      <th></th>\n",
       "      <th></th>\n",
       "      <th></th>\n",
       "    </tr>\n",
       "  </thead>\n",
       "  <tbody>\n",
       "    <tr>\n",
       "      <th>lp__</th>\n",
       "      <td>-13.00</td>\n",
       "      <td>0.0160</td>\n",
       "      <td>0.72</td>\n",
       "      <td>-14.00</td>\n",
       "      <td>-13.00</td>\n",
       "      <td>-13.00</td>\n",
       "      <td>1900.0</td>\n",
       "      <td>36000.0</td>\n",
       "      <td>1.0</td>\n",
       "    </tr>\n",
       "    <tr>\n",
       "      <th>theta</th>\n",
       "      <td>0.64</td>\n",
       "      <td>0.0027</td>\n",
       "      <td>0.11</td>\n",
       "      <td>0.46</td>\n",
       "      <td>0.64</td>\n",
       "      <td>0.81</td>\n",
       "      <td>1500.0</td>\n",
       "      <td>28000.0</td>\n",
       "      <td>1.0</td>\n",
       "    </tr>\n",
       "  </tbody>\n",
       "</table>\n",
       "</div>"
      ],
      "text/plain": [
       "        Mean    MCSE  StdDev     5%    50%    95%   N_Eff  N_Eff/s  R_hat\n",
       "name                                                                     \n",
       "lp__  -13.00  0.0160    0.72 -14.00 -13.00 -13.00  1900.0  36000.0    1.0\n",
       "theta   0.64  0.0027    0.11   0.46   0.64   0.81  1500.0  28000.0    1.0"
      ]
     },
     "execution_count": 24,
     "metadata": {},
     "output_type": "execute_result"
    }
   ],
   "source": [
    "summary = stan_fit.summary()\n",
    "summary.head()"
   ]
  },
  {
   "cell_type": "code",
   "execution_count": 26,
   "metadata": {},
   "outputs": [],
   "source": [
    "theta = summary.loc[\"theta\"]\n",
    "theta_mean = theta[\"Mean\"]\n",
    "theta_median = theta[\"50%\"]\n",
    "theta_quantity_5 = theta[\"5%\"]\n",
    "theta_quantity_95 = theta[\"95%\"]"
   ]
  },
  {
   "cell_type": "code",
   "execution_count": 29,
   "metadata": {
    "id": "vUSF560TPl7n"
   },
   "outputs": [
    {
     "data": {
      "image/png": "[encoded data removed]",
      "text/plain": [
       "<Figure size 432x288 with 1 Axes>"
      ]
     },
     "metadata": {
      "needs_background": "light"
     },
     "output_type": "display_data"
    }
   ],
   "source": [
    "plt.hist(theta_col_array, bins = 100)\n",
    "plt.axvline(x=theta_mean, color='r')\n",
    "plt.axvline(x=theta_median, color='g')\n",
    "plt.axvline(x=theta_quantity_5, color='b')\n",
    "plt.axvline(x=theta_quantity_95, color='y')\n",
    "plt.show()"
   ]
  },
  {
   "cell_type": "code",
   "execution_count": null,
   "metadata": {},
   "outputs": [],
   "source": []
  }
 ],
 "metadata": {
  "colab": {
   "name": "exercise2.ipynb",
   "provenance": []
  },
  "kernelspec": {
   "display_name": "Python 3 (ipykernel)",
   "language": "python",
   "name": "python3"
  },
  "language_info": {
   "codemirror_mode": {
    "name": "ipython",
    "version": 3
   },
   "file_extension": ".py",
   "mimetype": "text/x-python",
   "name": "python",
   "nbconvert_exporter": "python",
   "pygments_lexer": "ipython3",
   "version": "3.9.7"
  }
 },
 "nbformat": 4,
 "nbformat_minor": 1
}
